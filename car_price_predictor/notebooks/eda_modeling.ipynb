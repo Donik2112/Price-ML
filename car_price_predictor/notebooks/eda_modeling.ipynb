import pandas as pd
import numpy as np
import matplotlib.pyplot as plt
import seaborn as sns
from sklearn.model_selection import train_test_split
from sklearn.preprocessing import StandardScaler, OneHotEncoder
from sklearn.compose import ColumnTransformer
from sklearn.pipeline import Pipeline
from sklearn.metrics import mean_absolute_error, accuracy_score
from xgboost import XGBRegressor, XGBClassifier
import joblib
import os

# Визуализация
plt.figure(figsize=(10, 6))
sns.scatterplot(x=y_test, y=y_pred)
plt.xlabel("Реальная цена")
plt.ylabel("Предсказанная цена")
plt.title("Предсказание vs Реальная цена")

# Создание папки static, если не существует
os.makedirs('static', exist_ok=True)
plt.savefig("static/price_prediction.png")  # Для веб-приложения


uploaded = files.upload()
for fn in uploaded.keys():
    print(f'Файл {fn} успешно загружен!')

# Чтение файла
df = pd.read_csv(fn)
 # Замените на свой датасет

# Загрузка данных
df = pd.read_csv('used_cars.csv')

# Преобразование цены в числовой формат
df['price'] = df['price'].str.replace('$', '').str.replace(',', '').astype(float)

# Преобразование пробега в числовой формат
df['milage'] = df['milage'].str.replace(' mi.', '').str.replace(',', '').astype(float)

# Средняя цена
average_price = df['price'].mean()
print(f"Средняя цена: ${average_price:,.2f}")

# Топ-5 самых дорогих автомобилей
top_5_expensive = df.nlargest(5, 'price')[['brand', 'model', 'price']]
print("Топ-5 самых дорогих автомобилей:")
print(top_5_expensive)

# Пример предобработки
# Выделение мощности двигателя
df['engine_power'] = df['engine'].str.extract(r'(\d+\.?\d*)HP').astype(float)

# Пример предобработки
df = df.dropna()  # Удаление пропусков после создания engine_power
df = df[df['price'] < 100000]  # Удаление выбросов (пример)

# Если задача - бинарная классификация (0 - дешевле медианы, 1 - дороже)
median_price = df['price'].median()
df['Price_Class'] = np.where(df['price'] >= median_price, 1, 0)

# Разделение данных
X = df.drop(['price', 'Price_Class'], axis=1)
y_reg = df['price']  # Для регрессии
y_clf = df['Price_Class']  # Для классификации

# Разделение на train/test
# Изменить разметку
y_clf = df['Price_Class']

# Новый train/test сплит
X_train, X_test, y_train, y_test = train_test_split(X, y_clf, test_size=0.2, random_state=42)


# Препроцессинг
# Выделение мощности двигател

# Обновляем список числовых признаков
numeric_features = ['model_year', 'milage', 'engine_power']
categorical_features = ['brand', 'model', 'fuel_type', 'transmission', 'ext_col', 'int_col', 'accident']


preprocessor = ColumnTransformer(
    transformers=[
        ('num', StandardScaler(), numeric_features),
        ('cat', OneHotEncoder(handle_unknown='ignore'), categorical_features)
    ])

# Модель (регрессия)
model_reg = Pipeline(steps=[
    ('preprocessor', preprocessor),
    ('regressor', XGBRegressor(
    n_estimators=300,
    learning_rate=0.1,
    max_depth=6,
    subsample=0.8,
    colsample_bytree=0.8,
    random_state=42,
    n_jobs=-1
))
])

model_reg.fit(X_train, y_train)
y_pred = model_reg.predict(X_test)
print(f"MAE: {mean_absolute_error(y_test, y_pred)}")

os.makedirs('models', exist_ok=True)

# Сохранение модели
# Модель классификации
from sklearn.metrics import classification_report, accuracy_score
model_clf = Pipeline(steps=[
    ('preprocessor', preprocessor),
    ('classifier', XGBClassifier(
        n_estimators=300,
        learning_rate=0.1,
        max_depth=6,
        subsample=0.8,
        colsample_bytree=0.8,
        random_state=42,
        n_jobs=-1
    ))
])

model_clf.fit(X_train, y_train)
y_pred = model_clf.predict(X_test)

# Метрики
print(classification_report(y_test, y_pred))
print("Accuracy:", accuracy_score(y_test, y_pred))

# Сохранение модели классификации
joblib.dump(model_clf, 'models/car_price_classifier.pkl', protocol=4)


# Визуализация
plt.figure(figsize=(10, 6))
sns.scatterplot(x=y_test, y=y_pred)
plt.xlabel("Реальная цена")
plt.ylabel("Предсказанная цена")
plt.title("Предсказание vs Реальная цена")
plt.savefig("static/price_prediction.png")  # Для веб-приложения

